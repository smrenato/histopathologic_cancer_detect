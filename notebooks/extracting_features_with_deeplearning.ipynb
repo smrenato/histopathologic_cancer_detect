{
 "cells": [
  {
   "cell_type": "code",
   "execution_count": 17,
   "metadata": {},
   "outputs": [
    {
     "name": "stdout",
     "output_type": "stream",
     "text": [
      "The rich extension is already loaded. To reload it, use:\n",
      "  %reload_ext rich\n",
      "The ensurewd extension is already loaded. To reload it, use:\n",
      "  %reload_ext ensurewd\n"
     ]
    }
   ],
   "source": [
    "%load_ext rich\n",
    "%load_ext ensurewd"
   ]
  },
  {
   "cell_type": "code",
   "execution_count": 18,
   "metadata": {},
   "outputs": [],
   "source": [
    "from torchvision import models, transforms\n",
    "\n",
    "from pathlib import Path\n",
    "from utils.config import get_conf\n",
    "from utils.models import VGG16Extractor"
   ]
  },
  {
   "cell_type": "code",
   "execution_count": 19,
   "metadata": {},
   "outputs": [
    {
     "data": {
      "text/html": [
       "<pre style=\"white-space:pre;overflow-x:auto;line-height:normal;font-family:Menlo,'DejaVu Sans Mono',consolas,'Courier New',monospace\"></pre>\n"
      ],
      "text/plain": []
     },
     "metadata": {},
     "output_type": "display_data"
    },
    {
     "data": {
      "text/plain": [
       "\u001b[1m{\u001b[0m\u001b[32m'message'\u001b[0m: \u001b[32m'this a message'\u001b[0m\u001b[1m}\u001b[0m"
      ]
     },
     "execution_count": 19,
     "metadata": {},
     "output_type": "execute_result"
    }
   ],
   "source": [
    "# path to dataset\n",
    "TRAIN_PATH = Path('../data/raw/histopathologic-cancer-detection/train/')\n",
    "TEST_PATH = Path('../data/raw/histopathologic-cancer-detection/test/')\n",
    "TRAIN_LABELS_PATH = Path(\n",
    "    '../data/raw/histopathologic-cancer-detection/train_labels.csv'\n",
    ")\n",
    "CONF_PATH = Path('../data/conf.toml')\n",
    "\n",
    "dataset_conf = get_conf(conf_path=CONF_PATH)\n",
    "\n",
    "histopathologic_cancer_conf = dataset_conf['histopatological_cancer_detection']\n",
    "histopathologic_cancer_conf"
   ]
  },
  {
   "cell_type": "markdown",
   "metadata": {},
   "source": [
    "### Using a custom model to extract images features"
   ]
  },
  {
   "cell_type": "code",
   "execution_count": 20,
   "metadata": {},
   "outputs": [
    {
     "name": "stderr",
     "output_type": "stream",
     "text": [
      "/home/smrenato/repo/eda_histopathologic_cancer_detect/.venv/lib64/python3.12/site-packages/torchvision/models/_utils.py:223: UserWarning: Arguments other than a weight enum or `None` for 'weights' are deprecated since 0.13 and may be removed in the future. The current behavior is equivalent to passing `weights=VGG16_Weights.IMAGENET1K_V1`. You can also use `weights=VGG16_Weights.DEFAULT` to get the most up-to-date weights.\n",
      "  warnings.warn(msg)\n"
     ]
    }
   ],
   "source": [
    "# getting model\n",
    "vgg16 = models.vgg16(weights=True)"
   ]
  },
  {
   "cell_type": "code",
   "execution_count": 23,
   "metadata": {},
   "outputs": [],
   "source": [
    "# building our custom model\n",
    "device = 'cuda' # cpu\n",
    "features_extractor_models = VGG16Extractor(vgg16).to(device)"
   ]
  },
  {
   "cell_type": "markdown",
   "metadata": {},
   "source": [
    "#### Building feature matrix"
   ]
  }
 ],
 "metadata": {
  "kernelspec": {
   "display_name": ".venv",
   "language": "python",
   "name": "python3"
  },
  "language_info": {
   "codemirror_mode": {
    "name": "ipython",
    "version": 3
   },
   "file_extension": ".py",
   "mimetype": "text/x-python",
   "name": "python",
   "nbconvert_exporter": "python",
   "pygments_lexer": "ipython3",
   "version": "3.12.6"
  }
 },
 "nbformat": 4,
 "nbformat_minor": 2
}
