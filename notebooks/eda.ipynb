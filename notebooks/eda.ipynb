{
 "cells": [
  {
   "cell_type": "code",
   "execution_count": 12,
   "metadata": {},
   "outputs": [
    {
     "name": "stdout",
     "output_type": "stream",
     "text": [
      "The rich extension is already loaded. To reload it, use:\n",
      "  %reload_ext rich\n"
     ]
    }
   ],
   "source": [
    "# setup\n",
    "%load_ext rich\n",
    "import ensure_wd\n",
    "from rich import print"
   ]
  },
  {
   "cell_type": "code",
   "execution_count": 2,
   "metadata": {},
   "outputs": [],
   "source": [
    "# libs\n",
    "\n",
    "import math\n",
    "from PIL import Image\n",
    "from pathlib import Path\n",
    "\n",
    "import matplotlib.pyplot as plt\n",
    "import matplotlib.image as imread\n",
    "import seaborn as sns\n",
    "import numpy as np\n",
    "import pandas as pd"
   ]
  },
  {
   "cell_type": "code",
   "execution_count": 26,
   "metadata": {},
   "outputs": [],
   "source": [
    "from utils.load_config import get_conf\n",
    "\n",
    "conf = get_conf(Path('../data/conf.toml'))\n",
    "\n",
    "DATASET_CONF = conf['histopatological_cancer_detection']\n",
    "\n",
    "TRAIN_PATH = Path('../data/raw/histopathologic-cancer-detection/train/')\n",
    "TEST_PATH = Path('../data/raw/histopathologic-cancer-detection/test/')\n",
    "TRAIN_LABELS = Path('../data/raw/histopathologic-cancer-detection/train_labels.csv')"
   ]
  },
  {
   "cell_type": "markdown",
   "metadata": {},
   "source": [
    "### Tamanho do dataset  e Distribuição de Classes "
   ]
  },
  {
   "cell_type": "code",
   "execution_count": 31,
   "metadata": {},
   "outputs": [],
   "source": [
    "files_train_gen = Path(TRAIN_PATH).glob('*.*')\n",
    "files_test_gen = Path(TEST_PATH).glob('*.*')\n",
    "\n",
    "train_list = [file for file in files_train_gen]\n",
    "test_list = [file for file in files_test_gen]"
   ]
  },
  {
   "cell_type": "code",
   "execution_count": 35,
   "metadata": {},
   "outputs": [
    {
     "data": {
      "text/html": [
       "<pre style=\"white-space:pre;overflow-x:auto;line-height:normal;font-family:Menlo,'DejaVu Sans Mono',consolas,'Courier New',monospace\">test: <span style=\"color: #008080; text-decoration-color: #008080; font-weight: bold\">57458</span>, train: <span style=\"color: #008080; text-decoration-color: #008080; font-weight: bold\">220025</span>\n",
       "</pre>\n"
      ],
      "text/plain": [
       "test: \u001b[1;36m57458\u001b[0m, train: \u001b[1;36m220025\u001b[0m\n"
      ]
     },
     "metadata": {},
     "output_type": "display_data"
    }
   ],
   "source": [
    "print(f'test: {len(test_list)}, train: {len(train_list)}')"
   ]
  },
  {
   "cell_type": "code",
   "execution_count": 41,
   "metadata": {},
   "outputs": [
    {
     "data": {
      "text/html": [
       "<pre style=\"white-space:pre;overflow-x:auto;line-height:normal;font-family:Menlo,'DejaVu Sans Mono',consolas,'Courier New',monospace\"></pre>\n"
      ],
      "text/plain": []
     },
     "metadata": {},
     "output_type": "display_data"
    },
    {
     "data": {
      "text/plain": [
       "\n",
       "\u001b[1m(\u001b[0m\n",
       "                                                  id  label\n",
       "\u001b[1;36m220015\u001b[0m  9c0ad1bf43e2fa5e25fac5c8af616c5ae194c187      \u001b[1;36m0\u001b[0m\n",
       "\u001b[1;36m220016\u001b[0m  4236e88fb08d16316395f0e71a0a44c4a6fdf794      \u001b[1;36m0\u001b[0m\n",
       "\u001b[1;36m220017\u001b[0m  025427fc9743354111cbbc60cab9be094465602b      \u001b[1;36m0\u001b[0m\n",
       "\u001b[1;36m220018\u001b[0m  cdf7171a796090072ce521012497c78c9a56cad3      \u001b[1;36m0\u001b[0m\n",
       "\u001b[1;36m220019\u001b[0m  1fdacc29221a64e39d5d294d114c9e29da8705ae      \u001b[1;36m0\u001b[0m\n",
       "\u001b[1;36m220020\u001b[0m  53e9aa9d46e720bf3c6a7528d1fca3ba6e2e49f6      \u001b[1;36m0\u001b[0m\n",
       "\u001b[1;36m220021\u001b[0m  d4b854fe38b07fe2831ad73892b3cec877689576      \u001b[1;36m1\u001b[0m\n",
       "\u001b[1;36m220022\u001b[0m  3d046cead1a2a5cbe00b2b4847cfb7ba7cf5fe75      \u001b[1;36m0\u001b[0m\n",
       "\u001b[1;36m220023\u001b[0m  f129691c13433f66e1e0671ff1fe80944816f5a2      \u001b[1;36m0\u001b[0m\n",
       "\u001b[1;36m220024\u001b[0m  a81f84895ddcd522302ddf34be02eb1b3e5af1cb      \u001b[1;36m1\u001b[0m,\n",
       "                                             id  label\n",
       "\u001b[1;36m0\u001b[0m  f38a6374c348f90b587e046aac6079959adf3835      \u001b[1;36m0\u001b[0m\n",
       "\u001b[1;36m1\u001b[0m  c18f2d887b7ae4f6742ee445113fa1aef383ed77      \u001b[1;36m1\u001b[0m\n",
       "\u001b[1;36m2\u001b[0m  755db6279dae599ebb4d39a9123cce439965282d      \u001b[1;36m0\u001b[0m\n",
       "\u001b[1;36m3\u001b[0m  bc3f0c64fb968ff4a8bd33af6971ecae77c75e08      \u001b[1;36m0\u001b[0m\n",
       "\u001b[1;36m4\u001b[0m  068aba587a4950175d04c680d38943fd488d6a9d      \u001b[1;36m0\u001b[0m\n",
       "\u001b[1;36m5\u001b[0m  acfe80838488fae3c89bd21ade75be5c34e66be7      \u001b[1;36m0\u001b[0m\n",
       "\u001b[1;36m6\u001b[0m  a24ce148f6ffa7ef8eefb4efb12ebffe8dd700da      \u001b[1;36m1\u001b[0m\n",
       "\u001b[1;36m7\u001b[0m  7f6ccae485af121e0b6ee733022e226ee6b0c65f      \u001b[1;36m1\u001b[0m\n",
       "\u001b[1;36m8\u001b[0m  559e55a64c9ba828f700e948f6886f4cea919261      \u001b[1;36m0\u001b[0m\n",
       "\u001b[1;36m9\u001b[0m  8eaaa7a400aa79d36c2440a4aa101cc14256cda4      \u001b[1;36m0\u001b[0m\n",
       "\u001b[1m)\u001b[0m"
      ]
     },
     "execution_count": 41,
     "metadata": {},
     "output_type": "execute_result"
    }
   ],
   "source": [
    "label_train_df = pd.read_csv(TRAIN_LABELS)\n",
    "\n",
    "(label_train_df.tail(10), label_train_df.head(10))"
   ]
  },
  {
   "cell_type": "code",
   "execution_count": 44,
   "metadata": {},
   "outputs": [
    {
     "data": {
      "text/html": [
       "<pre style=\"white-space:pre;overflow-x:auto;line-height:normal;font-family:Menlo,'DejaVu Sans Mono',consolas,'Courier New',monospace\"></pre>\n"
      ],
      "text/plain": []
     },
     "metadata": {},
     "output_type": "display_data"
    },
    {
     "data": {
      "image/png": "[encoded data removed]",
      "text/plain": [
       "\u001b[1m<\u001b[0m\u001b[1;95mFigure\u001b[0m\u001b[39m size 64\u001b[0m\u001b[1;36m0x480\u001b[0m\u001b[39m with \u001b[0m\u001b[1;36m1\u001b[0m\u001b[39m Axes\u001b[0m\u001b[1m>\u001b[0m"
      ]
     },
     "metadata": {},
     "output_type": "display_data"
    }
   ],
   "source": [
    "_ = sns.countplot(data=label_train_df, x='label')\n",
    "plt.show()"
   ]
  },
  {
   "cell_type": "code",
   "execution_count": 45,
   "metadata": {},
   "outputs": [
    {
     "data": {
      "text/html": [
       "<pre style=\"white-space:pre;overflow-x:auto;line-height:normal;font-family:Menlo,'DejaVu Sans Mono',consolas,'Courier New',monospace\"></pre>\n"
      ],
      "text/plain": []
     },
     "metadata": {},
     "output_type": "display_data"
    },
    {
     "data": {
      "text/plain": [
       "\n",
       "label\n",
       "\u001b[1;36m0\u001b[0m        \u001b[1;36m0.594969\u001b[0m\n",
       "\u001b[1;36m1\u001b[0m        \u001b[1;36m0.405031\u001b[0m\n",
       "Name: proportion, dtype: float64"
      ]
     },
     "execution_count": 45,
     "metadata": {},
     "output_type": "execute_result"
    }
   ],
   "source": [
    "label_train_df.value_counts(['label'], normalize=True)"
   ]
  },
  {
   "cell_type": "markdown",
   "metadata": {},
   "source": [
    "### Check de Sanidade de dados"
   ]
  },
  {
   "cell_type": "code",
   "execution_count": null,
   "metadata": {},
   "outputs": [],
   "source": []
  }
 ],
 "metadata": {
  "kernelspec": {
   "display_name": ".venv",
   "language": "python",
   "name": "python3"
  },
  "language_info": {
   "codemirror_mode": {
    "name": "ipython",
    "version": 3
   },
   "file_extension": ".py",
   "mimetype": "text/x-python",
   "name": "python",
   "nbconvert_exporter": "python",
   "pygments_lexer": "ipython3",
   "version": "3.12.5"
  }
 },
 "nbformat": 4,
 "nbformat_minor": 2
}
